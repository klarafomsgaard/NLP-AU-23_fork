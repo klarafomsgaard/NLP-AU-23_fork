{
 "cells": [
  {
   "cell_type": "markdown",
   "metadata": {},
   "source": [
    "## Exercises Class 1"
   ]
  },
  {
   "cell_type": "markdown",
   "metadata": {},
   "source": [
    "#### String concatenation\n",
    "Write a function that takes two strings as input, and returns a concatenated string, where the second string is appended to the end of first one.\n",
    "\n",
    "*NOTE*: here I am specifying the type of inputs and outputs. With this, your function will fail if you pass inputs that don't match (generally, a good sanity check for functions)"
   ]
  }
 ],
 "metadata": {
  "kernelspec": {
   "display_name": "NLP-E23",
   "language": "python",
   "name": "nlp-e23"
  },
  "language_info": {
   "name": "python",
   "version": "3.10.12"
  },
  "orig_nbformat": 4
 },
 "nbformat": 4,
 "nbformat_minor": 2
}
